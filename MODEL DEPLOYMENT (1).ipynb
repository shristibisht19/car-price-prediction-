{
 "cells": [
  {
   "cell_type": "code",
   "execution_count": 5,
   "id": "f3ade185",
   "metadata": {},
   "outputs": [],
   "source": [
    "import gradio as gr\n",
    "import pickle\n",
    "import warnings\n",
    "warnings.filterwarnings('ignore')"
   ]
  },
  {
   "cell_type": "code",
   "execution_count": 7,
   "id": "582943f0",
   "metadata": {},
   "outputs": [],
   "source": [
    "with open('final_model_gbm.pkl', 'rb') as file:\n",
    "    model = pickle.load(file)"
   ]
  },
  {
   "cell_type": "code",
   "execution_count": 9,
   "id": "dd363324",
   "metadata": {},
   "outputs": [
    {
     "data": {
      "text/plain": [
       "array(['symboling', 'fueltype', 'aspiration', 'doornumber', 'carbody',\n",
       "       'drivewheel', 'enginelocation', 'wheelbase', 'carlength',\n",
       "       'carwidth', 'carheight', 'curbweight', 'enginetype',\n",
       "       'cylindernumber', 'enginesize', 'fuelsystem', 'boreratio',\n",
       "       'stroke', 'compressionratio', 'horsepower', 'peakrpm', 'citympg',\n",
       "       'highwaympg'], dtype=object)"
      ]
     },
     "execution_count": 9,
     "metadata": {},
     "output_type": "execute_result"
    }
   ],
   "source": [
    "model.feature_names_in_"
   ]
  },
  {
   "cell_type": "code",
   "execution_count": 11,
   "id": "e3f29bbd",
   "metadata": {},
   "outputs": [],
   "source": [
    "def prediction(sym, ft, asp, door, cb, dw, el, wl, cl, cw, ch, curbw, et, cn, es, fs, br, stroke, cr, hp, rpm, cmpg, hmpg):\n",
    "    \n",
    "    input_data = [[sym, ft, asp, door, cb, dw, el, wl, cl, cw, ch, curbw, et, cn, es, fs, br, stroke, cr, hp, rpm, cmpg, hmpg]]\n",
    "    \n",
    "    pred = model.predict(input_data)[0]\n",
    "    \n",
    "    if pred>0.5:\n",
    "        return f' The price of car is more likely to be high : Price = {round(pred)}'\n",
    "    else:\n",
    "        return f' The price of car is less likely to be high : Price = {round(pred)}'"
   ]
  },
  {
   "cell_type": "code",
   "execution_count": 13,
   "id": "24676b98",
   "metadata": {},
   "outputs": [],
   "source": [
    "# create interface\n",
    "\n",
    "iface = gr.Interface(fn = prediction, inputs=[gr.Slider(minimum=-3, maximum=3, step=1, label='What is the insurance risk rating?'),\n",
    "                                             gr.Dropdown([('gas',0), ('diesel',1)], label='What is the type of fuel?'),\n",
    "                                             gr.Dropdown([('std', 0), ('turbo', 1)], label='What is the type of aspiration?'),\n",
    "                                             gr.Dropdown([2,4], label='How many doors are there?'),\n",
    "                                             gr.Dropdown([('convertible',0), ('hatchback',1), ('sedan',2), ('wagon',3), \n",
    "                                                          ('hardtop',4)], label='What is the body type of car?'),\n",
    "                                             gr.Dropdown([('rwd',0), ('fwd',1), ('4wd',2)], label='Which kind of drivewheel is it?'),\n",
    "                                             gr.Dropdown([('front',1), ('rear',0)], label='What is the engine location?'),\n",
    "                                             gr.Number(label = 'What is the wheelbase?'),\n",
    "                                             gr.Number(label = 'What is the length of the car?'),\n",
    "                                             gr.Number(label = 'What is the width of the car?'),\n",
    "                                             gr.Number(label = 'What is the height of the car?'),\n",
    "                                             gr.Number(label = 'What is the curbweight of the car?'),\n",
    "                                             gr.Dropdown([('ohc',0), ('ohcf',1), ('ohcv',2), ('dohc',3), ('l',4), ('rotor',5), \n",
    "                                                          ('dohcv',6)], label='What is the engine type of the car?'),\n",
    "                                             gr.Dropdown([('four',0), ('six',1), ('five',2), ('eight',3), ('two',4), ('three',5),\n",
    "                                                         ('twelve',6)], label='How many cylinders are there in the car?'),\n",
    "                                             gr.Number(label = 'What is the engine size?'),\n",
    "                                             gr.Dropdown([('mpfi',0), ('2bbl',1), ('idi',2), ('1bbl',3), ('spdi',4), ('4bbl',5),\n",
    "                                                         ('mfi',6), ('spfi',7)], label='What is the fuel system of the car?'),\n",
    "                                             gr.Number(label = 'What is the bore ratio of the car?'),\n",
    "                                             gr.Number(label = 'How much is the stroke or volume inside the engine?'),\n",
    "                                             gr.Number(label = 'What is the compression ratio of the car?'),\n",
    "                                             gr.Number(label = 'What is the horsepower of the car?'),\n",
    "                                             gr.Number(label = 'What is the car peak rpm?'),\n",
    "                                             gr.Slider(minimum=14, maximum=49, step=1, label='How much is the mileage of car in city?'),\n",
    "                                             gr.Slider(minimum=16, maximum=54, step=1, label='How much is the mileage of car on highway')],\n",
    "                    outputs = gr.Textbox(label = 'Prediction'),\n",
    "                    title = 'Car Price Prediction',\n",
    "                    description = 'This application will forecast the price of a car',\n",
    "                    allow_flagging = 'never')"
   ]
  },
  {
   "cell_type": "code",
   "execution_count": 15,
   "id": "923066b5",
   "metadata": {},
   "outputs": [
    {
     "name": "stdout",
     "output_type": "stream",
     "text": [
      "* Running on local URL:  http://127.0.0.1:7860\n",
      "\n",
      "To create a public link, set `share=True` in `launch()`.\n"
     ]
    },
    {
     "data": {
      "text/html": [
       "<div><iframe src=\"http://127.0.0.1:7860/\" width=\"100%\" height=\"500\" allow=\"autoplay; camera; microphone; clipboard-read; clipboard-write;\" frameborder=\"0\" allowfullscreen></iframe></div>"
      ],
      "text/plain": [
       "<IPython.core.display.HTML object>"
      ]
     },
     "metadata": {},
     "output_type": "display_data"
    },
    {
     "data": {
      "text/plain": []
     },
     "execution_count": 15,
     "metadata": {},
     "output_type": "execute_result"
    }
   ],
   "source": [
    "iface.launch()"
   ]
  },
  {
   "cell_type": "code",
   "execution_count": null,
   "id": "68269617",
   "metadata": {},
   "outputs": [],
   "source": []
  }
 ],
 "metadata": {
  "kernelspec": {
   "display_name": "Python 3 (ipykernel)",
   "language": "python",
   "name": "python3"
  },
  "language_info": {
   "codemirror_mode": {
    "name": "ipython",
    "version": 3
   },
   "file_extension": ".py",
   "mimetype": "text/x-python",
   "name": "python",
   "nbconvert_exporter": "python",
   "pygments_lexer": "ipython3",
   "version": "3.12.4"
  }
 },
 "nbformat": 4,
 "nbformat_minor": 5
}
